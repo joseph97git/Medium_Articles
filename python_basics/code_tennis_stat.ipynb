{
 "cells": [
  {
   "cell_type": "code",
   "execution_count": 7,
   "metadata": {
    "collapsed": true
   },
   "outputs": [],
   "source": [
    "import pandas as pd\n",
    "import numpy as np"
   ]
  },
  {
   "cell_type": "code",
   "execution_count": 5,
   "metadata": {
    "collapsed": true
   },
   "outputs": [],
   "source": [
    "PlayerName = [\"RogerFederer\", \"NovakDjokovic\", \"RafaelNadal\", \\\n",
    "              \"AndyMurray\", \"PeteSampras\", \"AndreAgassi\", \\\n",
    "              \"StanWawrinka\", \"DavidFerrer\", \"TomasBerdych\", \"BorisBecker\"]\n",
    "Country = [\"Switzerland\", \"Serbia\", \"Spain\", \"UnitedKingdom\", \\\n",
    "           \"UnitedStates\", \"UnitedStates\", \"Switzerland\", \"Spain\", \\\n",
    "           \"Czechoslovakia\", \"Germany\"]\n",
    "PrizeMoney = [111885682, 109805403, 94588627, 60807644, 43280489, 31152975, \\\n",
    "             30905144, 30796561, 28220153, 25080956]\n",
    "Year = [\"2017\", \"2017\", \"2017\", \"2017\", \"2002\", \"2006\", \"2017\", \"2017\", \"2017\", \"1999\"]\n",
    "list_all = [PlayerName, Country, PrizeMoney, Year]\n",
    "col = [\"PlayerName\", \"Country\", \"PrizeMoney\", \"Year\"]"
   ]
  },
  {
   "cell_type": "code",
   "execution_count": 36,
   "metadata": {
    "collapsed": true
   },
   "outputs": [],
   "source": [
    "stat_tennis_array = np.array(list_all)"
   ]
  },
  {
   "cell_type": "code",
   "execution_count": 37,
   "metadata": {},
   "outputs": [
    {
     "data": {
      "text/plain": [
       "array([['RogerFederer', 'NovakDjokovic', 'RafaelNadal', 'AndyMurray',\n",
       "        'PeteSampras', 'AndreAgassi', 'StanWawrinka', 'DavidFerrer',\n",
       "        'TomasBerdych', 'BorisBecker'],\n",
       "       ['Switzerland', 'Serbia', 'Spain', 'UnitedKingdom', 'UnitedStates',\n",
       "        'UnitedStates', 'Switzerland', 'Spain', 'Czechoslovakia', 'Germany'],\n",
       "       ['111885682', '109805403', '94588627', '60807644', '43280489',\n",
       "        '31152975', '30905144', '30796561', '28220153', '25080956'],\n",
       "       ['2017', '2017', '2017', '2017', '2002', '2006', '2017', '2017',\n",
       "        '2017', '1999']],\n",
       "      dtype='<U14')"
      ]
     },
     "execution_count": 37,
     "metadata": {},
     "output_type": "execute_result"
    }
   ],
   "source": [
    "stat_tennis_array"
   ]
  },
  {
   "cell_type": "code",
   "execution_count": 39,
   "metadata": {
    "collapsed": true
   },
   "outputs": [],
   "source": [
    "df = pd.DataFrame(data=stat_tennis_array, columns=list(range(10)), index=col)"
   ]
  },
  {
   "cell_type": "code",
   "execution_count": 40,
   "metadata": {},
   "outputs": [
    {
     "data": {
      "text/html": [
       "<div>\n",
       "<style>\n",
       "    .dataframe thead tr:only-child th {\n",
       "        text-align: right;\n",
       "    }\n",
       "\n",
       "    .dataframe thead th {\n",
       "        text-align: left;\n",
       "    }\n",
       "\n",
       "    .dataframe tbody tr th {\n",
       "        vertical-align: top;\n",
       "    }\n",
       "</style>\n",
       "<table border=\"1\" class=\"dataframe\">\n",
       "  <thead>\n",
       "    <tr style=\"text-align: right;\">\n",
       "      <th></th>\n",
       "      <th>0</th>\n",
       "      <th>1</th>\n",
       "      <th>2</th>\n",
       "      <th>3</th>\n",
       "      <th>4</th>\n",
       "      <th>5</th>\n",
       "      <th>6</th>\n",
       "      <th>7</th>\n",
       "      <th>8</th>\n",
       "      <th>9</th>\n",
       "    </tr>\n",
       "  </thead>\n",
       "  <tbody>\n",
       "    <tr>\n",
       "      <th>PlayerName</th>\n",
       "      <td>RogerFederer</td>\n",
       "      <td>NovakDjokovic</td>\n",
       "      <td>RafaelNadal</td>\n",
       "      <td>AndyMurray</td>\n",
       "      <td>PeteSampras</td>\n",
       "      <td>AndreAgassi</td>\n",
       "      <td>StanWawrinka</td>\n",
       "      <td>DavidFerrer</td>\n",
       "      <td>TomasBerdych</td>\n",
       "      <td>BorisBecker</td>\n",
       "    </tr>\n",
       "    <tr>\n",
       "      <th>Country</th>\n",
       "      <td>Switzerland</td>\n",
       "      <td>Serbia</td>\n",
       "      <td>Spain</td>\n",
       "      <td>UnitedKingdom</td>\n",
       "      <td>UnitedStates</td>\n",
       "      <td>UnitedStates</td>\n",
       "      <td>Switzerland</td>\n",
       "      <td>Spain</td>\n",
       "      <td>Czechoslovakia</td>\n",
       "      <td>Germany</td>\n",
       "    </tr>\n",
       "    <tr>\n",
       "      <th>PrizeMoney</th>\n",
       "      <td>111885682</td>\n",
       "      <td>109805403</td>\n",
       "      <td>94588627</td>\n",
       "      <td>60807644</td>\n",
       "      <td>43280489</td>\n",
       "      <td>31152975</td>\n",
       "      <td>30905144</td>\n",
       "      <td>30796561</td>\n",
       "      <td>28220153</td>\n",
       "      <td>25080956</td>\n",
       "    </tr>\n",
       "    <tr>\n",
       "      <th>Year</th>\n",
       "      <td>2017</td>\n",
       "      <td>2017</td>\n",
       "      <td>2017</td>\n",
       "      <td>2017</td>\n",
       "      <td>2002</td>\n",
       "      <td>2006</td>\n",
       "      <td>2017</td>\n",
       "      <td>2017</td>\n",
       "      <td>2017</td>\n",
       "      <td>1999</td>\n",
       "    </tr>\n",
       "  </tbody>\n",
       "</table>\n",
       "</div>"
      ],
      "text/plain": [
       "                       0              1            2              3  \\\n",
       "PlayerName  RogerFederer  NovakDjokovic  RafaelNadal     AndyMurray   \n",
       "Country      Switzerland         Serbia        Spain  UnitedKingdom   \n",
       "PrizeMoney     111885682      109805403     94588627       60807644   \n",
       "Year                2017           2017         2017           2017   \n",
       "\n",
       "                       4             5             6            7  \\\n",
       "PlayerName   PeteSampras   AndreAgassi  StanWawrinka  DavidFerrer   \n",
       "Country     UnitedStates  UnitedStates   Switzerland        Spain   \n",
       "PrizeMoney      43280489      31152975      30905144     30796561   \n",
       "Year                2002          2006          2017         2017   \n",
       "\n",
       "                         8            9  \n",
       "PlayerName    TomasBerdych  BorisBecker  \n",
       "Country     Czechoslovakia      Germany  \n",
       "PrizeMoney        28220153     25080956  \n",
       "Year                  2017         1999  "
      ]
     },
     "execution_count": 40,
     "metadata": {},
     "output_type": "execute_result"
    }
   ],
   "source": [
    "df"
   ]
  },
  {
   "cell_type": "code",
   "execution_count": 41,
   "metadata": {
    "collapsed": true
   },
   "outputs": [],
   "source": [
    "df = df.transpose()"
   ]
  },
  {
   "cell_type": "code",
   "execution_count": 42,
   "metadata": {},
   "outputs": [
    {
     "data": {
      "text/html": [
       "<div>\n",
       "<style>\n",
       "    .dataframe thead tr:only-child th {\n",
       "        text-align: right;\n",
       "    }\n",
       "\n",
       "    .dataframe thead th {\n",
       "        text-align: left;\n",
       "    }\n",
       "\n",
       "    .dataframe tbody tr th {\n",
       "        vertical-align: top;\n",
       "    }\n",
       "</style>\n",
       "<table border=\"1\" class=\"dataframe\">\n",
       "  <thead>\n",
       "    <tr style=\"text-align: right;\">\n",
       "      <th></th>\n",
       "      <th>PlayerName</th>\n",
       "      <th>Country</th>\n",
       "      <th>PrizeMoney</th>\n",
       "      <th>Year</th>\n",
       "    </tr>\n",
       "  </thead>\n",
       "  <tbody>\n",
       "    <tr>\n",
       "      <th>0</th>\n",
       "      <td>RogerFederer</td>\n",
       "      <td>Switzerland</td>\n",
       "      <td>111885682</td>\n",
       "      <td>2017</td>\n",
       "    </tr>\n",
       "    <tr>\n",
       "      <th>1</th>\n",
       "      <td>NovakDjokovic</td>\n",
       "      <td>Serbia</td>\n",
       "      <td>109805403</td>\n",
       "      <td>2017</td>\n",
       "    </tr>\n",
       "    <tr>\n",
       "      <th>2</th>\n",
       "      <td>RafaelNadal</td>\n",
       "      <td>Spain</td>\n",
       "      <td>94588627</td>\n",
       "      <td>2017</td>\n",
       "    </tr>\n",
       "    <tr>\n",
       "      <th>3</th>\n",
       "      <td>AndyMurray</td>\n",
       "      <td>UnitedKingdom</td>\n",
       "      <td>60807644</td>\n",
       "      <td>2017</td>\n",
       "    </tr>\n",
       "    <tr>\n",
       "      <th>4</th>\n",
       "      <td>PeteSampras</td>\n",
       "      <td>UnitedStates</td>\n",
       "      <td>43280489</td>\n",
       "      <td>2002</td>\n",
       "    </tr>\n",
       "    <tr>\n",
       "      <th>5</th>\n",
       "      <td>AndreAgassi</td>\n",
       "      <td>UnitedStates</td>\n",
       "      <td>31152975</td>\n",
       "      <td>2006</td>\n",
       "    </tr>\n",
       "    <tr>\n",
       "      <th>6</th>\n",
       "      <td>StanWawrinka</td>\n",
       "      <td>Switzerland</td>\n",
       "      <td>30905144</td>\n",
       "      <td>2017</td>\n",
       "    </tr>\n",
       "    <tr>\n",
       "      <th>7</th>\n",
       "      <td>DavidFerrer</td>\n",
       "      <td>Spain</td>\n",
       "      <td>30796561</td>\n",
       "      <td>2017</td>\n",
       "    </tr>\n",
       "    <tr>\n",
       "      <th>8</th>\n",
       "      <td>TomasBerdych</td>\n",
       "      <td>Czechoslovakia</td>\n",
       "      <td>28220153</td>\n",
       "      <td>2017</td>\n",
       "    </tr>\n",
       "    <tr>\n",
       "      <th>9</th>\n",
       "      <td>BorisBecker</td>\n",
       "      <td>Germany</td>\n",
       "      <td>25080956</td>\n",
       "      <td>1999</td>\n",
       "    </tr>\n",
       "  </tbody>\n",
       "</table>\n",
       "</div>"
      ],
      "text/plain": [
       "      PlayerName         Country PrizeMoney  Year\n",
       "0   RogerFederer     Switzerland  111885682  2017\n",
       "1  NovakDjokovic          Serbia  109805403  2017\n",
       "2    RafaelNadal           Spain   94588627  2017\n",
       "3     AndyMurray   UnitedKingdom   60807644  2017\n",
       "4    PeteSampras    UnitedStates   43280489  2002\n",
       "5    AndreAgassi    UnitedStates   31152975  2006\n",
       "6   StanWawrinka     Switzerland   30905144  2017\n",
       "7    DavidFerrer           Spain   30796561  2017\n",
       "8   TomasBerdych  Czechoslovakia   28220153  2017\n",
       "9    BorisBecker         Germany   25080956  1999"
      ]
     },
     "execution_count": 42,
     "metadata": {},
     "output_type": "execute_result"
    }
   ],
   "source": [
    "df"
   ]
  },
  {
   "cell_type": "code",
   "execution_count": 48,
   "metadata": {
    "collapsed": true
   },
   "outputs": [],
   "source": [
    "df.to_csv(path_or_buf=\"C:\\\\Users\\\\Joseph\\\\Desktop\\\\Python\\\\python basics\\\\tennis_stat.csv\", index=False)"
   ]
  },
  {
   "cell_type": "code",
   "execution_count": 43,
   "metadata": {},
   "outputs": [
    {
     "name": "stdout",
     "output_type": "stream",
     "text": [
      "C:\\Users\\Joseph\\Desktop\\Python\\python basics\n"
     ]
    }
   ],
   "source": [
    "import os \n",
    "print(os.getcwd())"
   ]
  },
  {
   "cell_type": "code",
   "execution_count": 49,
   "metadata": {
    "collapsed": true
   },
   "outputs": [],
   "source": [
    "tennis_stat = pd.read_csv(\"tennis_stat.csv\", )"
   ]
  },
  {
   "cell_type": "code",
   "execution_count": 50,
   "metadata": {},
   "outputs": [
    {
     "data": {
      "text/html": [
       "<div>\n",
       "<style>\n",
       "    .dataframe thead tr:only-child th {\n",
       "        text-align: right;\n",
       "    }\n",
       "\n",
       "    .dataframe thead th {\n",
       "        text-align: left;\n",
       "    }\n",
       "\n",
       "    .dataframe tbody tr th {\n",
       "        vertical-align: top;\n",
       "    }\n",
       "</style>\n",
       "<table border=\"1\" class=\"dataframe\">\n",
       "  <thead>\n",
       "    <tr style=\"text-align: right;\">\n",
       "      <th></th>\n",
       "      <th>PlayerName</th>\n",
       "      <th>Country</th>\n",
       "      <th>PrizeMoney</th>\n",
       "      <th>Year</th>\n",
       "    </tr>\n",
       "  </thead>\n",
       "  <tbody>\n",
       "    <tr>\n",
       "      <th>0</th>\n",
       "      <td>RogerFederer</td>\n",
       "      <td>Switzerland</td>\n",
       "      <td>111885682</td>\n",
       "      <td>2017</td>\n",
       "    </tr>\n",
       "    <tr>\n",
       "      <th>1</th>\n",
       "      <td>NovakDjokovic</td>\n",
       "      <td>Serbia</td>\n",
       "      <td>109805403</td>\n",
       "      <td>2017</td>\n",
       "    </tr>\n",
       "    <tr>\n",
       "      <th>2</th>\n",
       "      <td>RafaelNadal</td>\n",
       "      <td>Spain</td>\n",
       "      <td>94588627</td>\n",
       "      <td>2017</td>\n",
       "    </tr>\n",
       "    <tr>\n",
       "      <th>3</th>\n",
       "      <td>AndyMurray</td>\n",
       "      <td>UnitedKingdom</td>\n",
       "      <td>60807644</td>\n",
       "      <td>2017</td>\n",
       "    </tr>\n",
       "    <tr>\n",
       "      <th>4</th>\n",
       "      <td>PeteSampras</td>\n",
       "      <td>UnitedStates</td>\n",
       "      <td>43280489</td>\n",
       "      <td>2002</td>\n",
       "    </tr>\n",
       "    <tr>\n",
       "      <th>5</th>\n",
       "      <td>AndreAgassi</td>\n",
       "      <td>UnitedStates</td>\n",
       "      <td>31152975</td>\n",
       "      <td>2006</td>\n",
       "    </tr>\n",
       "    <tr>\n",
       "      <th>6</th>\n",
       "      <td>StanWawrinka</td>\n",
       "      <td>Switzerland</td>\n",
       "      <td>30905144</td>\n",
       "      <td>2017</td>\n",
       "    </tr>\n",
       "    <tr>\n",
       "      <th>7</th>\n",
       "      <td>DavidFerrer</td>\n",
       "      <td>Spain</td>\n",
       "      <td>30796561</td>\n",
       "      <td>2017</td>\n",
       "    </tr>\n",
       "    <tr>\n",
       "      <th>8</th>\n",
       "      <td>TomasBerdych</td>\n",
       "      <td>Czechoslovakia</td>\n",
       "      <td>28220153</td>\n",
       "      <td>2017</td>\n",
       "    </tr>\n",
       "    <tr>\n",
       "      <th>9</th>\n",
       "      <td>BorisBecker</td>\n",
       "      <td>Germany</td>\n",
       "      <td>25080956</td>\n",
       "      <td>1999</td>\n",
       "    </tr>\n",
       "  </tbody>\n",
       "</table>\n",
       "</div>"
      ],
      "text/plain": [
       "      PlayerName         Country  PrizeMoney  Year\n",
       "0   RogerFederer     Switzerland   111885682  2017\n",
       "1  NovakDjokovic          Serbia   109805403  2017\n",
       "2    RafaelNadal           Spain    94588627  2017\n",
       "3     AndyMurray   UnitedKingdom    60807644  2017\n",
       "4    PeteSampras    UnitedStates    43280489  2002\n",
       "5    AndreAgassi    UnitedStates    31152975  2006\n",
       "6   StanWawrinka     Switzerland    30905144  2017\n",
       "7    DavidFerrer           Spain    30796561  2017\n",
       "8   TomasBerdych  Czechoslovakia    28220153  2017\n",
       "9    BorisBecker         Germany    25080956  1999"
      ]
     },
     "execution_count": 50,
     "metadata": {},
     "output_type": "execute_result"
    }
   ],
   "source": [
    "tennis_stat"
   ]
  },
  {
   "cell_type": "code",
   "execution_count": null,
   "metadata": {
    "collapsed": true
   },
   "outputs": [],
   "source": []
  }
 ],
 "metadata": {
  "kernelspec": {
   "display_name": "Python 3",
   "language": "python",
   "name": "python3"
  },
  "language_info": {
   "codemirror_mode": {
    "name": "ipython",
    "version": 3
   },
   "file_extension": ".py",
   "mimetype": "text/x-python",
   "name": "python",
   "nbconvert_exporter": "python",
   "pygments_lexer": "ipython3",
   "version": "3.6.3"
  }
 },
 "nbformat": 4,
 "nbformat_minor": 2
}
