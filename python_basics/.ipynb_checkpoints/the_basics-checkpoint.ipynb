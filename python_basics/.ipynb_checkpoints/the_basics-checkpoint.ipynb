{
 "cells": [
  {
   "cell_type": "code",
   "execution_count": 1,
   "metadata": {
    "collapsed": true
   },
   "outputs": [],
   "source": [
    "# importing the pandas package\n",
    "import pandas as pd"
   ]
  },
  {
   "cell_type": "code",
   "execution_count": 2,
   "metadata": {
    "collapsed": true
   },
   "outputs": [],
   "source": [
    "# reading the csv file and assigning it to the tennis_stat variable\n",
    "tennis_stat = pd.read_csv(\"tennis_stat.csv\")"
   ]
  },
  {
   "cell_type": "code",
   "execution_count": 3,
   "metadata": {},
   "outputs": [
    {
     "data": {
      "text/html": [
       "<div>\n",
       "<style>\n",
       "    .dataframe thead tr:only-child th {\n",
       "        text-align: right;\n",
       "    }\n",
       "\n",
       "    .dataframe thead th {\n",
       "        text-align: left;\n",
       "    }\n",
       "\n",
       "    .dataframe tbody tr th {\n",
       "        vertical-align: top;\n",
       "    }\n",
       "</style>\n",
       "<table border=\"1\" class=\"dataframe\">\n",
       "  <thead>\n",
       "    <tr style=\"text-align: right;\">\n",
       "      <th></th>\n",
       "      <th>PlayerName</th>\n",
       "      <th>Country</th>\n",
       "      <th>PrizeMoney</th>\n",
       "      <th>Year</th>\n",
       "    </tr>\n",
       "  </thead>\n",
       "  <tbody>\n",
       "    <tr>\n",
       "      <th>0</th>\n",
       "      <td>RogerFederer</td>\n",
       "      <td>Switzerland</td>\n",
       "      <td>111885682</td>\n",
       "      <td>2017</td>\n",
       "    </tr>\n",
       "    <tr>\n",
       "      <th>1</th>\n",
       "      <td>NovakDjokovic</td>\n",
       "      <td>Serbia</td>\n",
       "      <td>109805403</td>\n",
       "      <td>2017</td>\n",
       "    </tr>\n",
       "    <tr>\n",
       "      <th>2</th>\n",
       "      <td>RafaelNadal</td>\n",
       "      <td>Spain</td>\n",
       "      <td>94588627</td>\n",
       "      <td>2017</td>\n",
       "    </tr>\n",
       "    <tr>\n",
       "      <th>3</th>\n",
       "      <td>AndyMurray</td>\n",
       "      <td>UnitedKingdom</td>\n",
       "      <td>60807644</td>\n",
       "      <td>2017</td>\n",
       "    </tr>\n",
       "    <tr>\n",
       "      <th>4</th>\n",
       "      <td>PeteSampras</td>\n",
       "      <td>UnitedStates</td>\n",
       "      <td>43280489</td>\n",
       "      <td>2002</td>\n",
       "    </tr>\n",
       "    <tr>\n",
       "      <th>5</th>\n",
       "      <td>AndreAgassi</td>\n",
       "      <td>UnitedStates</td>\n",
       "      <td>31152975</td>\n",
       "      <td>2006</td>\n",
       "    </tr>\n",
       "    <tr>\n",
       "      <th>6</th>\n",
       "      <td>StanWawrinka</td>\n",
       "      <td>Switzerland</td>\n",
       "      <td>30905144</td>\n",
       "      <td>2017</td>\n",
       "    </tr>\n",
       "    <tr>\n",
       "      <th>7</th>\n",
       "      <td>DavidFerrer</td>\n",
       "      <td>Spain</td>\n",
       "      <td>30796561</td>\n",
       "      <td>2017</td>\n",
       "    </tr>\n",
       "    <tr>\n",
       "      <th>8</th>\n",
       "      <td>TomasBerdych</td>\n",
       "      <td>Czechoslovakia</td>\n",
       "      <td>28220153</td>\n",
       "      <td>2017</td>\n",
       "    </tr>\n",
       "    <tr>\n",
       "      <th>9</th>\n",
       "      <td>BorisBecker</td>\n",
       "      <td>Germany</td>\n",
       "      <td>25080956</td>\n",
       "      <td>1999</td>\n",
       "    </tr>\n",
       "  </tbody>\n",
       "</table>\n",
       "</div>"
      ],
      "text/plain": [
       "      PlayerName         Country  PrizeMoney  Year\n",
       "0   RogerFederer     Switzerland   111885682  2017\n",
       "1  NovakDjokovic          Serbia   109805403  2017\n",
       "2    RafaelNadal           Spain    94588627  2017\n",
       "3     AndyMurray   UnitedKingdom    60807644  2017\n",
       "4    PeteSampras    UnitedStates    43280489  2002\n",
       "5    AndreAgassi    UnitedStates    31152975  2006\n",
       "6   StanWawrinka     Switzerland    30905144  2017\n",
       "7    DavidFerrer           Spain    30796561  2017\n",
       "8   TomasBerdych  Czechoslovakia    28220153  2017\n",
       "9    BorisBecker         Germany    25080956  1999"
      ]
     },
     "execution_count": 3,
     "metadata": {},
     "output_type": "execute_result"
    }
   ],
   "source": [
    "# viewing the data\n",
    "tennis_stat"
   ]
  },
  {
   "cell_type": "code",
   "execution_count": 4,
   "metadata": {},
   "outputs": [
    {
     "data": {
      "text/plain": [
       "Index(['PlayerName', 'Country', 'PrizeMoney', 'Year'], dtype='object')"
      ]
     },
     "execution_count": 4,
     "metadata": {},
     "output_type": "execute_result"
    }
   ],
   "source": [
    "# viewing the names of the columns\n",
    "tennis_stat.columns"
   ]
  },
  {
   "cell_type": "code",
   "execution_count": 5,
   "metadata": {
    "collapsed": true
   },
   "outputs": [],
   "source": [
    "# column names in the order we want\n",
    "new_col = [\"Year\", \"Country\", \"PlayerName\", \"PrizeMoney\"]"
   ]
  },
  {
   "cell_type": "code",
   "execution_count": 6,
   "metadata": {
    "collapsed": true
   },
   "outputs": [],
   "source": [
    "# overwriting the original tennis_stat with new column order\n",
    "tennis_stat = tennis_stat[new_col]"
   ]
  },
  {
   "cell_type": "code",
   "execution_count": 7,
   "metadata": {},
   "outputs": [
    {
     "data": {
      "text/html": [
       "<div>\n",
       "<style>\n",
       "    .dataframe thead tr:only-child th {\n",
       "        text-align: right;\n",
       "    }\n",
       "\n",
       "    .dataframe thead th {\n",
       "        text-align: left;\n",
       "    }\n",
       "\n",
       "    .dataframe tbody tr th {\n",
       "        vertical-align: top;\n",
       "    }\n",
       "</style>\n",
       "<table border=\"1\" class=\"dataframe\">\n",
       "  <thead>\n",
       "    <tr style=\"text-align: right;\">\n",
       "      <th></th>\n",
       "      <th>Year</th>\n",
       "      <th>Country</th>\n",
       "      <th>PlayerName</th>\n",
       "      <th>PrizeMoney</th>\n",
       "    </tr>\n",
       "  </thead>\n",
       "  <tbody>\n",
       "    <tr>\n",
       "      <th>0</th>\n",
       "      <td>2017</td>\n",
       "      <td>Switzerland</td>\n",
       "      <td>RogerFederer</td>\n",
       "      <td>111885682</td>\n",
       "    </tr>\n",
       "    <tr>\n",
       "      <th>1</th>\n",
       "      <td>2017</td>\n",
       "      <td>Serbia</td>\n",
       "      <td>NovakDjokovic</td>\n",
       "      <td>109805403</td>\n",
       "    </tr>\n",
       "    <tr>\n",
       "      <th>2</th>\n",
       "      <td>2017</td>\n",
       "      <td>Spain</td>\n",
       "      <td>RafaelNadal</td>\n",
       "      <td>94588627</td>\n",
       "    </tr>\n",
       "    <tr>\n",
       "      <th>3</th>\n",
       "      <td>2017</td>\n",
       "      <td>UnitedKingdom</td>\n",
       "      <td>AndyMurray</td>\n",
       "      <td>60807644</td>\n",
       "    </tr>\n",
       "    <tr>\n",
       "      <th>4</th>\n",
       "      <td>2002</td>\n",
       "      <td>UnitedStates</td>\n",
       "      <td>PeteSampras</td>\n",
       "      <td>43280489</td>\n",
       "    </tr>\n",
       "  </tbody>\n",
       "</table>\n",
       "</div>"
      ],
      "text/plain": [
       "   Year        Country     PlayerName  PrizeMoney\n",
       "0  2017    Switzerland   RogerFederer   111885682\n",
       "1  2017         Serbia  NovakDjokovic   109805403\n",
       "2  2017          Spain    RafaelNadal    94588627\n",
       "3  2017  UnitedKingdom     AndyMurray    60807644\n",
       "4  2002   UnitedStates    PeteSampras    43280489"
      ]
     },
     "execution_count": 7,
     "metadata": {},
     "output_type": "execute_result"
    }
   ],
   "source": [
    "# viewing the top 5 rows\n",
    "tennis_stat.head()"
   ]
  },
  {
   "cell_type": "code",
   "execution_count": 8,
   "metadata": {
    "collapsed": true
   },
   "outputs": [],
   "source": [
    "# row indexes in the order we want\n",
    "new_row = [0, 2, 1, 3, 4, 5, 6, 7, 8, 9]"
   ]
  },
  {
   "cell_type": "code",
   "execution_count": 9,
   "metadata": {
    "collapsed": true
   },
   "outputs": [],
   "source": [
    "# overwriting tennis_stat with new row order\n",
    "tennis_stat = tennis_stat.reindex(new_row)"
   ]
  },
  {
   "cell_type": "code",
   "execution_count": 10,
   "metadata": {
    "scrolled": true
   },
   "outputs": [
    {
     "data": {
      "text/html": [
       "<div>\n",
       "<style>\n",
       "    .dataframe thead tr:only-child th {\n",
       "        text-align: right;\n",
       "    }\n",
       "\n",
       "    .dataframe thead th {\n",
       "        text-align: left;\n",
       "    }\n",
       "\n",
       "    .dataframe tbody tr th {\n",
       "        vertical-align: top;\n",
       "    }\n",
       "</style>\n",
       "<table border=\"1\" class=\"dataframe\">\n",
       "  <thead>\n",
       "    <tr style=\"text-align: right;\">\n",
       "      <th></th>\n",
       "      <th>Year</th>\n",
       "      <th>Country</th>\n",
       "      <th>PlayerName</th>\n",
       "      <th>PrizeMoney</th>\n",
       "    </tr>\n",
       "  </thead>\n",
       "  <tbody>\n",
       "    <tr>\n",
       "      <th>0</th>\n",
       "      <td>2017</td>\n",
       "      <td>Switzerland</td>\n",
       "      <td>RogerFederer</td>\n",
       "      <td>111885682</td>\n",
       "    </tr>\n",
       "    <tr>\n",
       "      <th>2</th>\n",
       "      <td>2017</td>\n",
       "      <td>Spain</td>\n",
       "      <td>RafaelNadal</td>\n",
       "      <td>94588627</td>\n",
       "    </tr>\n",
       "    <tr>\n",
       "      <th>1</th>\n",
       "      <td>2017</td>\n",
       "      <td>Serbia</td>\n",
       "      <td>NovakDjokovic</td>\n",
       "      <td>109805403</td>\n",
       "    </tr>\n",
       "    <tr>\n",
       "      <th>3</th>\n",
       "      <td>2017</td>\n",
       "      <td>UnitedKingdom</td>\n",
       "      <td>AndyMurray</td>\n",
       "      <td>60807644</td>\n",
       "    </tr>\n",
       "    <tr>\n",
       "      <th>4</th>\n",
       "      <td>2002</td>\n",
       "      <td>UnitedStates</td>\n",
       "      <td>PeteSampras</td>\n",
       "      <td>43280489</td>\n",
       "    </tr>\n",
       "  </tbody>\n",
       "</table>\n",
       "</div>"
      ],
      "text/plain": [
       "   Year        Country     PlayerName  PrizeMoney\n",
       "0  2017    Switzerland   RogerFederer   111885682\n",
       "2  2017          Spain    RafaelNadal    94588627\n",
       "1  2017         Serbia  NovakDjokovic   109805403\n",
       "3  2017  UnitedKingdom     AndyMurray    60807644\n",
       "4  2002   UnitedStates    PeteSampras    43280489"
      ]
     },
     "execution_count": 10,
     "metadata": {},
     "output_type": "execute_result"
    }
   ],
   "source": [
    "tennis_stat.head()"
   ]
  },
  {
   "cell_type": "code",
   "execution_count": 11,
   "metadata": {
    "scrolled": false
   },
   "outputs": [
    {
     "data": {
      "text/html": [
       "<div>\n",
       "<style>\n",
       "    .dataframe thead tr:only-child th {\n",
       "        text-align: right;\n",
       "    }\n",
       "\n",
       "    .dataframe thead th {\n",
       "        text-align: left;\n",
       "    }\n",
       "\n",
       "    .dataframe tbody tr th {\n",
       "        vertical-align: top;\n",
       "    }\n",
       "</style>\n",
       "<table border=\"1\" class=\"dataframe\">\n",
       "  <thead>\n",
       "    <tr style=\"text-align: right;\">\n",
       "      <th></th>\n",
       "      <th>Year</th>\n",
       "      <th>Country</th>\n",
       "      <th>PlayerName</th>\n",
       "      <th>PrizeMoney</th>\n",
       "    </tr>\n",
       "  </thead>\n",
       "  <tbody>\n",
       "    <tr>\n",
       "      <th>0</th>\n",
       "      <td>2017</td>\n",
       "      <td>Switzerland</td>\n",
       "      <td>RogerFederer</td>\n",
       "      <td>111885682</td>\n",
       "    </tr>\n",
       "    <tr>\n",
       "      <th>1</th>\n",
       "      <td>2017</td>\n",
       "      <td>Spain</td>\n",
       "      <td>RafaelNadal</td>\n",
       "      <td>94588627</td>\n",
       "    </tr>\n",
       "    <tr>\n",
       "      <th>2</th>\n",
       "      <td>2017</td>\n",
       "      <td>Serbia</td>\n",
       "      <td>NovakDjokovic</td>\n",
       "      <td>109805403</td>\n",
       "    </tr>\n",
       "    <tr>\n",
       "      <th>3</th>\n",
       "      <td>2017</td>\n",
       "      <td>UnitedKingdom</td>\n",
       "      <td>AndyMurray</td>\n",
       "      <td>60807644</td>\n",
       "    </tr>\n",
       "    <tr>\n",
       "      <th>4</th>\n",
       "      <td>2002</td>\n",
       "      <td>UnitedStates</td>\n",
       "      <td>PeteSampras</td>\n",
       "      <td>43280489</td>\n",
       "    </tr>\n",
       "    <tr>\n",
       "      <th>5</th>\n",
       "      <td>2006</td>\n",
       "      <td>UnitedStates</td>\n",
       "      <td>AndreAgassi</td>\n",
       "      <td>31152975</td>\n",
       "    </tr>\n",
       "    <tr>\n",
       "      <th>6</th>\n",
       "      <td>2017</td>\n",
       "      <td>Switzerland</td>\n",
       "      <td>StanWawrinka</td>\n",
       "      <td>30905144</td>\n",
       "    </tr>\n",
       "    <tr>\n",
       "      <th>7</th>\n",
       "      <td>2017</td>\n",
       "      <td>Spain</td>\n",
       "      <td>DavidFerrer</td>\n",
       "      <td>30796561</td>\n",
       "    </tr>\n",
       "    <tr>\n",
       "      <th>8</th>\n",
       "      <td>2017</td>\n",
       "      <td>Czechoslovakia</td>\n",
       "      <td>TomasBerdych</td>\n",
       "      <td>28220153</td>\n",
       "    </tr>\n",
       "    <tr>\n",
       "      <th>9</th>\n",
       "      <td>1999</td>\n",
       "      <td>Germany</td>\n",
       "      <td>BorisBecker</td>\n",
       "      <td>25080956</td>\n",
       "    </tr>\n",
       "  </tbody>\n",
       "</table>\n",
       "</div>"
      ],
      "text/plain": [
       "   Year         Country     PlayerName  PrizeMoney\n",
       "0  2017     Switzerland   RogerFederer   111885682\n",
       "1  2017           Spain    RafaelNadal    94588627\n",
       "2  2017          Serbia  NovakDjokovic   109805403\n",
       "3  2017   UnitedKingdom     AndyMurray    60807644\n",
       "4  2002    UnitedStates    PeteSampras    43280489\n",
       "5  2006    UnitedStates    AndreAgassi    31152975\n",
       "6  2017     Switzerland   StanWawrinka    30905144\n",
       "7  2017           Spain    DavidFerrer    30796561\n",
       "8  2017  Czechoslovakia   TomasBerdych    28220153\n",
       "9  1999         Germany    BorisBecker    25080956"
      ]
     },
     "execution_count": 11,
     "metadata": {},
     "output_type": "execute_result"
    }
   ],
   "source": [
    "# resetting the indexes\n",
    "tennis_stat.reset_index(drop=True)"
   ]
  },
  {
   "cell_type": "code",
   "execution_count": 21,
   "metadata": {
    "collapsed": true
   },
   "outputs": [],
   "source": [
    "import matplotlib.pyplot as plt\n",
    "import numpy as np"
   ]
  },
  {
   "cell_type": "code",
   "execution_count": 13,
   "metadata": {
    "collapsed": true
   },
   "outputs": [],
   "source": [
    "# lists of color for the bars and color for the edges\n",
    "color_set = ['red','red','red','blue','blue','blue', \\\n",
    "             'blue','blue','blue','blue']\n",
    "edgecolor_set = ['black','black','black','black','black', \\\n",
    "                 'black','black','black','black','black']"
   ]
  },
  {
   "cell_type": "code",
   "execution_count": null,
   "metadata": {
    "collapsed": true
   },
   "outputs": [],
   "source": []
  },
  {
   "cell_type": "code",
   "execution_count": 31,
   "metadata": {},
   "outputs": [
    {
     "data": {
      "image/png": "[encoded data removed]",
      "text/plain": [
       "<matplotlib.figure.Figure at 0x1619edce80>"
      ]
     },
     "metadata": {},
     "output_type": "display_data"
    }
   ],
   "source": [
    "# the .bar() function\n",
    "plt.bar(x=tennis_stat.PlayerName, height=tennis_stat.PrizeMoney, \\\n",
    "        color=color_set, linewidth=1.5, edgecolor=edgecolor_set )\n",
    "\n",
    "# changing the orientation of the x-axis \"tick marks\"\n",
    "plt.xticks(x=tennis_stat.PlayerName, rotation='vertical')\n",
    "\n",
    "# displays the plot\n",
    "plt.show() "
   ]
  },
  {
   "cell_type": "code",
   "execution_count": null,
   "metadata": {
    "collapsed": true
   },
   "outputs": [],
   "source": []
  },
  {
   "cell_type": "code",
   "execution_count": null,
   "metadata": {
    "collapsed": true
   },
   "outputs": [],
   "source": []
  }
 ],
 "metadata": {
  "kernelspec": {
   "display_name": "Python 3",
   "language": "python",
   "name": "python3"
  },
  "language_info": {
   "codemirror_mode": {
    "name": "ipython",
    "version": 3
   },
   "file_extension": ".py",
   "mimetype": "text/x-python",
   "name": "python",
   "nbconvert_exporter": "python",
   "pygments_lexer": "ipython3",
   "version": "3.6.3"
  }
 },
 "nbformat": 4,
 "nbformat_minor": 2
}
